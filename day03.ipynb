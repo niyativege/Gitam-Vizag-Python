{
 "cells": [
  {
   "cell_type": "markdown",
   "metadata": {},
   "source": [
    "## Programming in Python with strings \n",
    "- strings \n",
    "- string slicing\n",
    "- Fundamental Programs and Examples with Strings "
   ]
  },
  {
   "cell_type": "code",
   "execution_count": 3,
   "metadata": {},
   "outputs": [
    {
     "name": "stdout",
     "output_type": "stream",
     "text": [
      "Python\n",
      "Programming\n",
      "A\n",
      "<class 'str'>\n",
      "<class 'str'>\n",
      "<class 'str'>\n"
     ]
    }
   ],
   "source": [
    "s1= 'Python'\n",
    "s2= \"Programming\"\n",
    "s3= 'A'\n",
    "print(s1)\n",
    "print(s2)\n",
    "print(s3)\n",
    "print(type(s1))\n",
    "print(type(s2))\n",
    "print(type(s3))\n"
   ]
  },
  {
   "cell_type": "markdown",
   "metadata": {},
   "source": [
    "## String Slicing"
   ]
  },
  {
   "cell_type": "code",
   "execution_count": 11,
   "metadata": {},
   "outputs": [
    {
     "name": "stdout",
     "output_type": "stream",
     "text": [
      "P\n",
      "y\n",
      "6\n",
      "n\n",
      "n\n",
      "o\n"
     ]
    }
   ],
   "source": [
    "s1= \"Python\"\n",
    "print(s1[0]) # accessing the first character in a string \n",
    "print(s1[1]) # accessing the second character in a string \n",
    "print(len(s1)) # length of the string \n",
    "print(s1[len(s1)-1]) # Accessing the last character in a string \n",
    "print(s1[-1]) # another way to access the last character in a string \n",
    "print(s1[-2]) "
   ]
  },
  {
   "cell_type": "code",
   "execution_count": 13,
   "metadata": {},
   "outputs": [
    {
     "name": "stdout",
     "output_type": "stream",
     "text": [
      "Py\n",
      "on\n",
      "hon\n",
      "tho\n",
      "ytho\n"
     ]
    }
   ],
   "source": [
    "print(s1[0:2]) # Access the first two characters \n",
    "print(s1[-2:]) # Access the last two character \n",
    "print(s1[3:]) # Access the characters from 3 till last \n",
    "print(s1[2:5]) # Access the characters from 2 to 5\n",
    "print(s1[1:-1]) # all the characters except first and last character"
   ]
  },
  {
   "cell_type": "code",
   "execution_count": 14,
   "metadata": {},
   "outputs": [
    {
     "data": {
      "text/plain": [
       "'nohtyP'"
      ]
     },
     "execution_count": 14,
     "metadata": {},
     "output_type": "execute_result"
    }
   ],
   "source": [
    "s1[-1::-1] # Reverse the string "
   ]
  },
  {
   "cell_type": "code",
   "execution_count": 15,
   "metadata": {},
   "outputs": [
    {
     "data": {
      "text/plain": [
       "'Pto'"
      ]
     },
     "execution_count": 15,
     "metadata": {},
     "output_type": "execute_result"
    }
   ],
   "source": [
    "# Access the characters in string alternate \n",
    "# python ... pto \n",
    "s1[::2]"
   ]
  },
  {
   "cell_type": "code",
   "execution_count": 16,
   "metadata": {},
   "outputs": [
    {
     "data": {
      "text/plain": [
       "'nhy'"
      ]
     },
     "execution_count": 16,
     "metadata": {},
     "output_type": "execute_result"
    }
   ],
   "source": [
    "# Acess the alternate characters from reverse direction \n",
    "# Python....nhy\n",
    "s1[::-2]"
   ]
  },
  {
   "cell_type": "code",
   "execution_count": 17,
   "metadata": {},
   "outputs": [
    {
     "data": {
      "text/plain": [
       "'Ph'"
      ]
     },
     "execution_count": 17,
     "metadata": {},
     "output_type": "execute_result"
    }
   ],
   "source": [
    "s1[::3]"
   ]
  },
  {
   "cell_type": "markdown",
   "metadata": {},
   "source": [
    "## Function with String Operations "
   ]
  },
  {
   "cell_type": "code",
   "execution_count": 19,
   "metadata": {},
   "outputs": [
    {
     "data": {
      "text/plain": [
       "'nohtyP'"
      ]
     },
     "execution_count": 19,
     "metadata": {},
     "output_type": "execute_result"
    }
   ],
   "source": [
    "# reverse the string \n",
    "def reversestr(s):\n",
    "    return s[-1::-1]\n",
    "reversestr('Python')"
   ]
  },
  {
   "cell_type": "code",
   "execution_count": 22,
   "metadata": {},
   "outputs": [
    {
     "name": "stdout",
     "output_type": "stream",
     "text": [
      "False\n",
      "True\n"
     ]
    }
   ],
   "source": [
    "# To check the if the given string is or is not a palindrome \n",
    "def isPalindrome(s):\n",
    "    if s==s[-1::-1]:\n",
    "        return True\n",
    "    return False \n",
    "print(isPalindrome('Python'))\n",
    "print(isPalindrome('ganag'))"
   ]
  },
  {
   "cell_type": "code",
   "execution_count": 27,
   "metadata": {},
   "outputs": [
    {
     "name": "stdout",
     "output_type": "stream",
     "text": [
      "P T "
     ]
    }
   ],
   "source": [
    "# Function to print the uppercase characters \n",
    "# Example : PyTthon ... PT\n",
    "\n",
    "# ASCII\n",
    "# A-Z : 65- 98\n",
    "# a-z : 97-122\n",
    "# 0-9 : 48-57\n",
    "# space : 32\n",
    "\n",
    "def printUpper(s):\n",
    "    for i in range(len(s)):\n",
    "        if ord(s[i])>=65 and ord(s[i])<=90:\n",
    "            print(s[i],end= ' ')\n",
    "    return \n",
    "printUpper('PyThon') # P T\n"
   ]
  },
  {
   "cell_type": "code",
   "execution_count": 25,
   "metadata": {},
   "outputs": [
    {
     "data": {
      "text/plain": [
       "97"
      ]
     },
     "execution_count": 25,
     "metadata": {},
     "output_type": "execute_result"
    }
   ],
   "source": [
    "ord('a') # ord() function gives the output as number which is equal to the ASCII number "
   ]
  },
  {
   "cell_type": "code",
   "execution_count": 39,
   "metadata": {},
   "outputs": [
    {
     "name": "stdout",
     "output_type": "stream",
     "text": [
      "Programming \n"
     ]
    }
   ],
   "source": [
    "# Function to return the output as 'SameCount' or 'Programming'\n",
    "# SameCount ... Lower and Upper chars have same count\n",
    "# Programming ... Count of the lowe and upper case is not same\n",
    "\n",
    "# Example #1 : PyThOn -- 3 P T O\n",
    "#                     -- 3 y h n \n",
    "# Output : SameCount   \n",
    "\n",
    "# Example #2 : PythoN -- 2 P N\n",
    "#                     -- 4 y t h o  \n",
    "# Output : Programming    \n",
    "\n",
    "\n",
    "def FindCount(s):\n",
    "    countU= 0\n",
    "    countL=0\n",
    "    for i in range(len(s)):\n",
    "        if ord(s[i])>=65 and ord(s[i])<=98:\n",
    "            countU= countU+1\n",
    "        elif ord(s[i])>=97 and ord(s[i])<=122:\n",
    "            countL= countL+1\n",
    "    if countU==countL:\n",
    "        print('SameCount')\n",
    "    else:\n",
    "        print('Programming ')\n",
    "        \n",
    "    return   \n",
    "FindCount('PythoN')\n"
   ]
  },
  {
   "cell_type": "code",
   "execution_count": 43,
   "metadata": {},
   "outputs": [
    {
     "name": "stdout",
     "output_type": "stream",
     "text": [
      "1 8 8 9 "
     ]
    }
   ],
   "source": [
    "# Function to Extract the digits from the string \n",
    "# Example #1 : \n",
    "# Input: Appli18cation89                   \n",
    "# Output : 1 8 8 9\n",
    "\n",
    "def FindNum(s):\n",
    "    for i in range(len(s)):\n",
    "        if ord(s[i])>=48 and ord(s[i])<=57:\n",
    "            print(s[i],end= ' ')\n",
    "    return\n",
    "        \n",
    "FindNum('Appli18cation89')"
   ]
  },
  {
   "cell_type": "code",
   "execution_count": 50,
   "metadata": {},
   "outputs": [
    {
     "name": "stdout",
     "output_type": "stream",
     "text": [
      "26 "
     ]
    }
   ],
   "source": [
    "# Function to addt the digits of the string \n",
    "# Example #1 : \n",
    "# Input: Appli18cation89                  \n",
    "# Output : 6 (1 8 8 9) \n",
    "\n",
    "def FindSum(s):\n",
    "    sum=0\n",
    "    for i in range(len(s)):\n",
    "        if ord(s[i])>=48 and ord(s[i])<=57:\n",
    "            sum= sum+int(s[i])\n",
    "    print(sum,end= ' ')\n",
    "    return\n",
    "        \n",
    "FindSum('Appli18cation89')"
   ]
  },
  {
   "cell_type": "code",
   "execution_count": null,
   "metadata": {},
   "outputs": [],
   "source": [
    "# Function to print 2nd word in upper case \n",
    "# Example #1 : \n",
    "# Input: Python Made Easy   \n",
    "# Output : MADE\n",
    "\n",
    "# Example #2 : \n",
    "# Input: Learn Python Strings  \n",
    "# Output : PYTHON\n",
    "\n",
    "def WordUpperCase(s):\n",
    "    cntSpace=0\n",
    "    for i in range(len(s)):\n",
    "        if ord(s[i])==32:\n",
    "            cntSpace+=1\n",
    "        if cntSpace == 1:  \n",
    "            if ord(s[i])>=65 and ord(s[i])<=98:\n",
    "                print(s[i],end= ' ')\n",
    "            elif ord(s[i])>=97 and ord(s[i])<=122:\n",
    "                print(chr(ord(s[i]=32),end = ' ')\n",
    "        if cntSpace == 2: \n",
    "            break\n",
    "                \n",
    "    return\n",
    "\n",
    "WordUpperCase('Python Made Easy') "
   ]
  },
  {
   "cell_type": "markdown",
   "metadata": {},
   "source": [
    "### List \n",
    "- One of the Data Structures in Python\n",
    "- Data Structure means to store,sort and search options \n",
    "- It's one of the common Data Structure in Python, the items of List repeated by comma and enlosed in square brackets []\n",
    "    - Example \n",
    "        - List1=[1,2,3,4]\n",
    "        - List2=[\"Gitam\",1,2,1.89,\"Vizag\"]"
   ]
  },
  {
   "cell_type": "code",
   "execution_count": 66,
   "metadata": {},
   "outputs": [
    {
     "name": "stdout",
     "output_type": "stream",
     "text": [
      "[1, 8, 16, 9, 2]\n",
      "1\n",
      "8\n",
      "2\n",
      "9\n",
      "[16, 9, 2]\n"
     ]
    }
   ],
   "source": [
    "li=[1,8,16,9,2]\n",
    "print(li) # will print ALL the list items\n",
    "print(li[0]) # will print the first item of the list \n",
    "print(li[1]) # will print the second item of the list \n",
    "print(li[-1]) # access the last item of the list \n",
    "print(li[-2]) # access the second last item of the list \n",
    "print(li[2:]) # will print from the second item of the list to the last item"
   ]
  },
  {
   "cell_type": "code",
   "execution_count": 68,
   "metadata": {},
   "outputs": [
    {
     "name": "stdout",
     "output_type": "stream",
     "text": [
      "['Gitam', 1582, 2018, 2019, 'Vizag']\n",
      "['Gitam', 1234, 2018, 2019, 'Vizag']\n"
     ]
    }
   ],
   "source": [
    "li=[\"Gitam\",1582,2018,2019,\"Vizag\"]\n",
    "print(li)\n",
    "# Update the list item with value using index\n",
    "li[1]=1234\n",
    "print(li)"
   ]
  },
  {
   "cell_type": "code",
   "execution_count": 70,
   "metadata": {},
   "outputs": [
    {
     "name": "stdout",
     "output_type": "stream",
     "text": [
      "['Gitam', 1234, 2018, 'Vizag']\n"
     ]
    }
   ],
   "source": [
    "# Delete the list item from the list\n",
    "del li[3]\n",
    "print(li)"
   ]
  },
  {
   "cell_type": "code",
   "execution_count": 76,
   "metadata": {},
   "outputs": [
    {
     "name": "stdout",
     "output_type": "stream",
     "text": [
      "5\n",
      "[1, 2, 3, 4, 5, 1, 2, 3, 4, 5]\n",
      "False\n",
      "True\n",
      "1 2 3 4 5 1 2 3 4 5 "
     ]
    }
   ],
   "source": [
    "# basic list operations \n",
    "li=[1,2,3,4,5]\n",
    "# len of the list \n",
    "print(len(li))\n",
    "# list repetition\n",
    "print(li*2)\n",
    "# To know if a certain item is present in the list or not \n",
    "print(10 in li)\n",
    "print(4 in li)\n",
    "# Access the list items from the iteration\n",
    "for i in range(len(li)):\n",
    "    print(li[i],end=' ')\n",
    "# 2nd way to print the list items\n",
    "for i in li:\n",
    "    print(i,end=' ')\n",
    "    "
   ]
  },
  {
   "cell_type": "code",
   "execution_count": 79,
   "metadata": {},
   "outputs": [
    {
     "name": "stdout",
     "output_type": "stream",
     "text": [
      "25\n",
      "1\n",
      "56\n",
      "11\n"
     ]
    }
   ],
   "source": [
    "# Basic list functions\n",
    "li=[1,9,16,25,5]\n",
    "print(max(li)) # Max nunber of the list\n",
    "print(min(li)) # Min nunber of the list\n",
    "print(sum(li)) # Sum of all the list items\n",
    "print(sum(li)//len(li)) # Avg of list items \n"
   ]
  },
  {
   "cell_type": "code",
   "execution_count": null,
   "metadata": {},
   "outputs": [],
   "source": []
  }
 ],
 "metadata": {
  "kernelspec": {
   "display_name": "Python 3",
   "language": "python",
   "name": "python3"
  },
  "language_info": {
   "codemirror_mode": {
    "name": "ipython",
    "version": 3
   },
   "file_extension": ".py",
   "mimetype": "text/x-python",
   "name": "python",
   "nbconvert_exporter": "python",
   "pygments_lexer": "ipython3",
   "version": "3.7.3"
  }
 },
 "nbformat": 4,
 "nbformat_minor": 2
}
