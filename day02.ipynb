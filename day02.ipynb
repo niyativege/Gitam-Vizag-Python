{
 "cells": [
  {
   "cell_type": "code",
   "execution_count": 1,
   "metadata": {},
   "outputs": [
    {
     "name": "stdout",
     "output_type": "stream",
     "text": [
      "Enter a number:10\n",
      "1 2 3 4 5 6 7 8 9 10 "
     ]
    }
   ],
   "source": [
    "# print numbers from 1 to 10\n",
    "# input: 10\n",
    "# output: 1 2 3 4 5 .....10\n",
    "n = int(input('Enter a number:'))\n",
    "i =1\n",
    "while i<=n:\n",
    "    print(i,end=\" \")\n",
    "    i=i+1"
   ]
  },
  {
   "cell_type": "code",
   "execution_count": 5,
   "metadata": {},
   "outputs": [
    {
     "name": "stdout",
     "output_type": "stream",
     "text": [
      "10\n",
      "30\n"
     ]
    }
   ],
   "source": [
    "# Read number a input\n",
    "# Output as only even numbers from 1 to N\n",
    "\n",
    "#input : 10\n",
    "#output : 30 (2+4+6+8+10)\n",
    "\n",
    "n= int(input(''))\n",
    "i= 1\n",
    "s= 0\n",
    "while i<=n:\n",
    "    if i%2==0:\n",
    "       s=s+i \n",
    "    i=i+1\n",
    "print(s)"
   ]
  },
  {
   "cell_type": "code",
   "execution_count": 6,
   "metadata": {},
   "outputs": [
    {
     "name": "stdout",
     "output_type": "stream",
     "text": [
      "123\n",
      "3 2 1 "
     ]
    }
   ],
   "source": [
    "# Read a number as input\n",
    "# Output has to be Digits of the number\n",
    "\n",
    "# Input: 123\n",
    "# Output:3 2 1 \n",
    "\n",
    "n=int(input(''))\n",
    "while n!=0:\n",
    "    print(n%10,end=' ')\n",
    "    n=n//10"
   ]
  },
  {
   "cell_type": "markdown",
   "metadata": {},
   "source": [
    "## Functional Programming \n",
    "- Simple \n",
    "- Easy to understand \n",
    "- Better Reusibility\n",
    "- Lengthy Program will be divided into Sub Programs"
   ]
  },
  {
   "cell_type": "code",
   "execution_count": null,
   "metadata": {},
   "outputs": [],
   "source": [
    "def nameofthefunction(<parameters>):\n",
    "    Statements\n",
    "    return\n",
    "                "
   ]
  },
  {
   "cell_type": "code",
   "execution_count": 10,
   "metadata": {},
   "outputs": [
    {
     "data": {
      "text/plain": [
       "6"
      ]
     },
     "execution_count": 10,
     "metadata": {},
     "output_type": "execute_result"
    }
   ],
   "source": [
    "# Read a number\n",
    "# Print the even digit sum from the number\n",
    "\n",
    "# Input: 1234\n",
    "# Output: 6(2+4)\n",
    "\n",
    "def evenDigitsum(n):\n",
    "    s=0\n",
    "    while n!=0:\n",
    "        r=n%10\n",
    "        if r%2==0:\n",
    "            s=s+r\n",
    "        n=n//10\n",
    "    return s    \n",
    "evenDigitsum(1234)\n",
    "\n"
   ]
  },
  {
   "cell_type": "code",
   "execution_count": 14,
   "metadata": {},
   "outputs": [
    {
     "data": {
      "text/plain": [
       "9"
      ]
     },
     "execution_count": 14,
     "metadata": {},
     "output_type": "execute_result"
    }
   ],
   "source": [
    "# Input: 19535\n",
    "# Output: 9 (large digit of the given number)\n",
    "# Functional programming\n",
    "\n",
    "def largeDigit(n):\n",
    "    large=0\n",
    "    while n!=0:\n",
    "        r=n%10\n",
    "        if large<r:\n",
    "            large = r\n",
    "        n=n//10\n",
    "    return large \n",
    "largeDigit(19535)\n"
   ]
  },
  {
   "cell_type": "code",
   "execution_count": 20,
   "metadata": {},
   "outputs": [
    {
     "name": "stdout",
     "output_type": "stream",
     "text": [
      "yes\n",
      "no\n"
     ]
    }
   ],
   "source": [
    "# Read a number as input\n",
    "# Ouput yes or no\n",
    "\n",
    "# Input : 145\n",
    "# Output: Yes\n",
    "\n",
    "# Input: 123\n",
    "# Output: No\n",
    "\n",
    "# Individual Digit factioral sum is same as input number\n",
    "\n",
    "def factorial(n):\n",
    "    fact =1\n",
    "    i =1\n",
    "    while i<=n:\n",
    "        fact=fact*i\n",
    "        i=i+1\n",
    "    return fact\n",
    "\n",
    "\n",
    "def digitFactSum(n):\n",
    "    s=0\n",
    "    buffer=n\n",
    "    while n!=0:\n",
    "        r=n%10\n",
    "        s+=factorial(r)\n",
    "        n=n//10 \n",
    "    if buffer ==s:\n",
    "        return 'yes'\n",
    "    else:\n",
    "        return 'no'\n",
    "    return\n",
    "\n",
    "print(digitFactSum(145)) #Yes\n",
    "print(digitFactSum(123)) #No\n"
   ]
  },
  {
   "cell_type": "code",
   "execution_count": 25,
   "metadata": {},
   "outputs": [
    {
     "name": "stdout",
     "output_type": "stream",
     "text": [
      "Palindrome\n",
      "Not a palindrome\n"
     ]
    }
   ],
   "source": [
    "# Read a number as input\n",
    "# Ouput as palindrome or Not a palindromw\n",
    "# Palindrome...A number after reversing is same as the orginal value\n",
    "\n",
    "# Input : 121\n",
    "# Output: Palindrome\n",
    "\n",
    "# Input: 123\n",
    "# Output: Not a Palindrome\n",
    "\n",
    "def isPalindrome(n):\n",
    "    rev =0\n",
    "    buffer =n\n",
    "    while n!=0:\n",
    "        rev=rev*10+(n%10)\n",
    "        n=n//10\n",
    "    if buffer ==rev:\n",
    "        return 'Palindrome'\n",
    "    return 'Not a palindrome'\n",
    "print(isPalindrome(121)) #Palindrome\n",
    "print(isPalindrome(123)) #Not a Palindrome\n"
   ]
  },
  {
   "cell_type": "code",
   "execution_count": 27,
   "metadata": {},
   "outputs": [
    {
     "name": "stdout",
     "output_type": "stream",
     "text": [
      "11 12 13 14 15 16 17 18 19 20 21 22 23 24 25 "
     ]
    }
   ],
   "source": [
    "# Function to print the numbers between two limits \n",
    "# Input: 11 25\n",
    "# Output: 11 12 13 14 15  .............. 25\n",
    "\n",
    "def printSeries(lb,ub):\n",
    "    for x in range(lb,ub+1):\n",
    "        print(x,end=' ')\n",
    "    return \n",
    "printSeries(11,25)"
   ]
  },
  {
   "cell_type": "code",
   "execution_count": 29,
   "metadata": {},
   "outputs": [
    {
     "name": "stdout",
     "output_type": "stream",
     "text": [
      "500 504 508 512 516 520 "
     ]
    }
   ],
   "source": [
    "# Function to print the alternate numbers \n",
    "# [500,520] -- 500 502 504 506 508 510....520\n",
    "# [100,140] -- 100 104 108 112 116 ....140\n",
    "\n",
    "def alternateNumbers(lb,ub):\n",
    "    for x in range(lb,ub+1,4):\n",
    "        print(x,end=' ')\n",
    "    return\n",
    "alternateNumbers(500,520)"
   ]
  },
  {
   "cell_type": "code",
   "execution_count": null,
   "metadata": {},
   "outputs": [],
   "source": []
  },
  {
   "cell_type": "code",
   "execution_count": null,
   "metadata": {},
   "outputs": [],
   "source": []
  },
  {
   "cell_type": "code",
   "execution_count": null,
   "metadata": {},
   "outputs": [],
   "source": []
  }
 ],
 "metadata": {
  "kernelspec": {
   "display_name": "Python 3",
   "language": "python",
   "name": "python3"
  },
  "language_info": {
   "codemirror_mode": {
    "name": "ipython",
    "version": 3
   },
   "file_extension": ".py",
   "mimetype": "text/x-python",
   "name": "python",
   "nbconvert_exporter": "python",
   "pygments_lexer": "ipython3",
   "version": "3.7.3"
  }
 },
 "nbformat": 4,
 "nbformat_minor": 2
}
